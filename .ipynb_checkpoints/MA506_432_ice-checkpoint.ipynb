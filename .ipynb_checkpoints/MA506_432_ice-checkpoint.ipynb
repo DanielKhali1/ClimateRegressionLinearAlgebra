{
 "cells": [
  {
   "cell_type": "markdown",
   "metadata": {},
   "source": [
    "# Getting started with the time series data"
   ]
  },
  {
   "cell_type": "code",
   "execution_count": null,
   "metadata": {},
   "outputs": [],
   "source": [
    "from numpy import *\n",
    "import pandas as pd\n",
    "from matplotlib.pyplot import *\n",
    "from Functions import *\n",
    "import warnings\n",
    "warnings.filterwarnings(\"ignore\")"
   ]
  },
  {
   "cell_type": "code",
   "execution_count": null,
   "metadata": {},
   "outputs": [],
   "source": [
    "Data = array(pd.read_csv('Data.csv',header=None))\n",
    "Data_orig = Data\n",
    "Data.shape"
   ]
  },
  {
   "cell_type": "markdown",
   "metadata": {},
   "source": [
    "To get the number of time series in the dataset, we have to look at the unique ids in the data. Since column 2 contains the ids, so looking for number of unique values in that column"
   ]
  },
  {
   "cell_type": "code",
   "execution_count": null,
   "metadata": {},
   "outputs": [],
   "source": [
    "## The command below gives the total number of time series in the dataset\n",
    "print('Total number of time series in the dataset: '+str(len(set(Data[:,1]))))  "
   ]
  },
  {
   "cell_type": "markdown",
   "metadata": {},
   "source": [
    "Therefore, there are 43013 data enteries in the original dataset. This dataset 'Data' contains each observations in every time series as a new data point, so the number of datapoints are this large. The total number of time series are shown to be 2789. Now we will be visualizing the locations of the time series in the original dataset provided. Notice the locations of time series represent the patterns in which the satellite moved over this region to collect data. "
   ]
  },
  {
   "cell_type": "code",
   "execution_count": null,
   "metadata": {},
   "outputs": [],
   "source": [
    "x = Data[:,3] ## x coordinate is in the 4rd column\n",
    "y = Data[:,4] ## y coordinate is in the 5th column\n",
    "scatter(x,y,color  = 'b',s = 5)\n",
    "grid('on')\n",
    "xlabel('X')\n",
    "ylabel('Y')\n",
    "title('Locations of the time Series: '+str(len(set(Data[:,1]))))\n",
    "show()"
   ]
  },
  {
   "cell_type": "markdown",
   "metadata": {},
   "source": [
    "#### There are 18 columns in total."
   ]
  },
  {
   "cell_type": "markdown",
   "metadata": {},
   "source": [
    "The columns of the Data array have the following headers:\n",
    "1. Serial Number\n",
    "2. PointID\n",
    "3. Number of Points\n",
    "4. X \n",
    "5. Y\n",
    "6. Z\n",
    "7. Kappa \n",
    "8. SIgma\n",
    "9. Fitting Error\n",
    "10. Date in decimal years\n",
    "11. Calendar Date (MDDYY or MMDDYY)\n",
    "12. Number of months relative to reference time period: August 31, 2006\n",
    "13. Surface elevation relative to reference elevation (m)\n",
    "14. Surface elevation error (m)\n",
    "15. Firn Densification Model from RACMOGR2.3 (m)\n",
    "16. Ice thickness change due to ice dynamics relative to reference elevation, surface elevation change minus FDM (m)\n",
    "17. Outlier flag, surface elevation change time series (0 or 1)\n",
    "18. Outlier flag, ice thickness change due to ice dynamics (0 or 1)"
   ]
  },
  {
   "cell_type": "markdown",
   "metadata": {
    "tags": []
   },
   "source": [
    "## Project description"
   ]
  },
  {
   "cell_type": "markdown",
   "metadata": {},
   "source": [
    "In the Data object, the individual time series can be identified by their unique id in column 2. So use that id to sample the rows corresponding to a particular time series. The time instances for observations are in column 10 . Extract the corresponding height from column 16."
   ]
  },
  {
   "cell_type": "markdown",
   "metadata": {},
   "source": [
    "#### Plotting a sample time series from data (the first time series)"
   ]
  },
  {
   "cell_type": "code",
   "execution_count": null,
   "metadata": {},
   "outputs": [],
   "source": [
    "ids = sorted(set(Data[:,1])) ## getting unique time series ids in the dataset\n",
    "ids[0]\n",
    "size(ids)"
   ]
  },
  {
   "cell_type": "code",
   "execution_count": null,
   "metadata": {},
   "outputs": [],
   "source": [
    "t = Data[Data[:,1] == ids[2],9]  ## time instances corresponding to this id\n",
    "h = Data[Data[:,1] == ids[2],15] ## corresponding height measurements"
   ]
  },
  {
   "cell_type": "code",
   "execution_count": null,
   "metadata": {},
   "outputs": [],
   "source": [
    "fig = figure(figsize=(10,5))\n",
    "ax = fig.add_subplot(111)\n",
    "ax.scatter(t,h,s = 50,color = 'r')\n",
    "xticks(size = 20)\n",
    "yticks(size = 20)\n",
    "xlabel('Time',size = 20)\n",
    "ylabel('Height Change (m)',size = 20)\n",
    "ax.set_title('Time Series ID: '+str(ids[0]),size = 20)\n",
    "grid(True)\n",
    "show()"
   ]
  },
  {
   "cell_type": "markdown",
   "metadata": {},
   "source": [
    "## Using the code for ALPS (Paper I shared) to predict height change at 2012"
   ]
  },
  {
   "cell_type": "markdown",
   "metadata": {},
   "source": [
    "Here for the data points in the scatter plot above, we dont have an observation at 2012. Here I am showing one example of how you can use the code from that paper to predict at 2012. Use the same procedure to predict at any required time instance for all time series. "
   ]
  },
  {
   "cell_type": "markdown",
   "metadata": {},
   "source": [
    "#### Firsty showing the full approximation with bounds"
   ]
  },
  {
   "cell_type": "code",
   "execution_count": null,
   "metadata": {},
   "outputs": [],
   "source": [
    "Data = np.concatenate((t.reshape(-1,1),h.reshape(-1,1)),axis = 1)\n",
    "Data"
   ]
  },
  {
   "cell_type": "code",
   "execution_count": null,
   "metadata": {},
   "outputs": [],
   "source": [
    "#figure(figsize=(20,8))\n",
    "fig = figure(figsize=(10,5))\n",
    "ax = fig.add_subplot(111)\n",
    "####### Scatter plot for the smaller time series\n",
    "p = 4;q=2\n",
    "scatter(t,h,color = 'r',s = 100,label = 'Data')\n",
    "[n,lamb,sigmasq] = full_search_nk(Data,p,q)\n",
    "c = n+p\n",
    "U = Kno_pspline_opt(Data,p,n)\n",
    "B = Basis_Pspline(n,p,U,Data[:,0])\n",
    "P = Penalty_p(q,c)\n",
    "theta = np.linalg.solve(B.T.dot(B) + lamb*P, B.T.dot(Data[:,1].reshape(-1,1)))\n",
    "### Getting mean of the prediction\n",
    "num = 200\n",
    "xpred = linspace(Data[0,0],Data[-1,0],num)\n",
    "Bpred = Basis_Pspline(n,p,U,xpred)\n",
    "ypred1 = Bpred.dot(theta)\n",
    "std_t1,std_n1 = Var_bounds(Data,Bpred,B,theta,P,lamb)\n",
    "\n",
    "\n",
    "ax.plot(xpred,ypred1,linewidth=3,color = 'g',label = 'Mean Prediction')\n",
    "ax.set_title('Time Series ID: '+str(ids[0]),size = 20)\n",
    "ax.tick_params(axis='x', labelsize=20)\n",
    "ax.tick_params(axis='y', labelsize=20)\n",
    "ax.set_xlabel('Time',size=20)\n",
    "ax.set_ylabel('Height Change (m)',size = 20)\n",
    "ax.fill_between(xpred.flatten(),ypred1.flatten()-std_t1,ypred1.flatten()+std_t1, alpha = 0.2,color = 'k',label = '95% t-interval')\n",
    "ax.legend(fontsize=15)\n",
    "ax.grid(True)\n",
    "show()"
   ]
  },
  {
   "cell_type": "markdown",
   "metadata": {},
   "source": [
    "#### Predicting at t = 2012"
   ]
  },
  {
   "cell_type": "code",
   "execution_count": null,
   "metadata": {},
   "outputs": [],
   "source": [
    "xpred_2012 = np.array([2006])\n",
    "Bpred_2012 = Basis_Pspline(n,p,U,xpred_2012)\n",
    "ypred_2012 = Bpred_2012.dot(theta)\n",
    "print('The prediction of height change at t = 2012: ',ypred_2012)"
   ]
  },
  {
   "cell_type": "markdown",
   "metadata": {},
   "source": [
    "#### Showing this prediction on the graph"
   ]
  },
  {
   "cell_type": "code",
   "execution_count": null,
   "metadata": {},
   "outputs": [],
   "source": [
    "# Plotting code same as before\n",
    "fig = figure(figsize=(10,5))\n",
    "ax = fig.add_subplot(111)\n",
    "ax.scatter(t,h,color = 'r',s = 100,label = 'Data')\n",
    "ax.plot(xpred,ypred1,linewidth=3,color = 'g',label = 'Mean Prediction')\n",
    "ax.set_title('Time Series ID: '+str(ids[0]),size = 20)\n",
    "ax.tick_params(axis='x', labelsize=20)\n",
    "ax.tick_params(axis='y', labelsize=20)\n",
    "ax.set_xlabel('Time',size=20)\n",
    "ax.set_ylabel('Height Change (m)',size = 20)\n",
    "ax.fill_between(xpred.flatten(),ypred1.flatten()-std_t1,ypred1.flatten()+std_t1, alpha = 0.2,color = 'k',label = '95% t-interval')\n",
    "ax.legend(fontsize=15)\n",
    "ax.grid(True)\n",
    "\n",
    "## adding the predicting at 2012\n",
    "axvline(x = 2012,linestyle = '-.')\n",
    "axhline(y = ypred_2012,linestyle = '-.')\n",
    "show()"
   ]
  },
  {
   "cell_type": "markdown",
   "metadata": {},
   "source": [
    "## Things to do next"
   ]
  },
  {
   "cell_type": "markdown",
   "metadata": {},
   "source": [
    "1. For each time series in the dataset, make a prediction at 2006 using the same procedure as above\n",
    "2. Save it into a new file dat_2006.csv. It will have rows equal to the number of time series in the dataset (2789). It will have 3 columns\n",
    "    1. X coordinate of time series\n",
    "    2. Y coordinate of time series\n",
    "    3. Height Prediction at t = 2006\n",
    "3. Once you have constructed this dat_2006.csv. Start working on the Spatial regression model which will be able to predict the height change at any new X, Y coordinate."
   ]
  },
  {
   "cell_type": "code",
   "execution_count": null,
   "metadata": {},
   "outputs": [],
   "source": [
    "## Code to create file dat_2006.csv"
   ]
  },
  {
   "cell_type": "code",
   "execution_count": null,
   "metadata": {
    "tags": []
   },
   "outputs": [],
   "source": [
    "from sklearn.model_selection import cross_val_score\n",
    "from sklearn.linear_model import Lasso\n",
    "#lasso regression\n",
    "dat2006 = array(pd.read_csv('dat_2006.csv',header=0))\n",
    "coord = dat2006[:,:2] ## coordinates (rows 1 and 2 frome csv)\n",
    "h = dat2006[:,2] ## y coordinate\n",
    "\n",
    "#define lasso model\n",
    "model = Lasso(alpha=0.01)\n",
    "model.fit(coord, h)\n",
    "\n",
    "for i in range(20):\n",
    "    test = [coord[i]]\n",
    "    predicted_val = model.predict(test)\n",
    "    error = (  abs(h[i] - predicted_val ) / predicted_val) * 100\n",
    "    print( 'model predicted:', predicted_val[0] , '\\tactual value:', h[i], '\\tpercent error:',  error[0], '%' )"
   ]
  },
  {
   "cell_type": "code",
   "execution_count": null,
   "metadata": {},
   "outputs": [],
   "source": [
    "from sklearn.model_selection import cross_val_score\n",
    "from sklearn.linear_model import Ridge\n",
    "#lasso regression\n",
    "dat2006 = array(pd.read_csv('dat_2006.csv',header=0))\n",
    "coord = dat2006[:,:2] ## coordinates (rows 1 and 2 frome csv)\n",
    "h = dat2006[:,2] ## y coordinate\n",
    "\n",
    "#define lasso model\n",
    "ridge_model = Ridge(alpha=0.9)\n",
    "ridge_model.fit(coord, h)\n",
    "\n",
    "for i in range(20):\n",
    "    test = [coord[i]]\n",
    "    predicted_val = ridge_model.predict(test)\n",
    "    error = (  abs(h[i] - predicted_val ) / predicted_val) * 100\n",
    "    print( 'model predicted:', predicted_val[0] , '\\tactual value:', h[i], '\\tpercent error:',  error[0], '%' )"
   ]
  },
  {
   "cell_type": "code",
   "execution_count": null,
   "metadata": {
    "tags": []
   },
   "outputs": [],
   "source": [
    "print('end')"
   ]
  },
  {
   "cell_type": "markdown",
   "metadata": {},
   "source": [
    "## Linear Regression Test"
   ]
  },
  {
   "cell_type": "code",
   "execution_count": null,
   "metadata": {},
   "outputs": [],
   "source": [
    "import sklearn.datasets\n",
    "\n",
    "class LinearRegressionTest():\n",
    "    def __init__(self):\n",
    "        pass\n",
    "    \n",
    "    # the function is theta = (X^t * X) ^-1 * y\n",
    "    def fit(self, X, y):\n",
    "        # prepends a vector of 1's before the input X\n",
    "        X_Matrix = c_[ones((X.shape[0],1)), X]\n",
    "        \n",
    "        # theta = (X^t * X) ^-1 * y\n",
    "        self.theta = linalg.inv(X_Matrix.T.dot(X_Matrix)).dot(X_Matrix.T).dot(y)\n",
    "        \n",
    "    def predict(self, X):\n",
    "        return c_[ones((X.shape[0],1)), X].dot(self.theta)\n",
    "    \n",
    "X, y = sklearn.datasets.load_diabetes(return_X_y=True)\n",
    "X = X[:, newaxis, 2]\n",
    "lin = LinearRegressionTest()\n",
    "lin.fit(X,y)\n",
    "y_pred = lin.predict(X)\n",
    "x_pred = X\n",
    "\n",
    "# print(X)\n",
    "\n",
    "\n",
    "fig, axe = subplots(dpi = 100)\n",
    "axe.scatter(X, y, marker='o')\n",
    "axe.set_title(\"regression test\")\n",
    "fig.savefig(\"img.png\")\n",
    "axe.plot(x_pred,y_pred,linewidth=3,color = 'g',label = 'Mean Prediction')\n",
    "\n",
    "show(fig)\n",
    "        "
   ]
  },
  {
   "cell_type": "markdown",
   "metadata": {},
   "source": [
    "## Ridge Regression Test"
   ]
  },
  {
   "cell_type": "code",
   "execution_count": null,
   "metadata": {},
   "outputs": [],
   "source": [
    "import sklearn.datasets\n",
    "from sklearn.preprocessing import PolynomialFeatures\n",
    "\n",
    "class RidgeRegressionTest():\n",
    "    def __init__(self, alpha):\n",
    "        self.alpha = alpha\n",
    "    \n",
    "    # the function is theta = (X^T * X + A)^-1 (X^t * y)\n",
    "    # A is a modified (I * A) where A at (0, 0) is = 0\n",
    "    def fit(self, X, y):\n",
    "        # prepends a vector of 1's before the input X\n",
    "        X_Matrix = c_[ones((X.shape[0],1)), X]\n",
    "        A = self.alpha * identity(X_Matrix.shape[1])\n",
    "        A[0,0] = 0\n",
    "        \n",
    "        # theta = (X^t * X) ^-1 * y\n",
    "        self.theta = linalg.inv(X_Matrix.T.dot(X_Matrix) + A).dot(X_Matrix.T).dot(y)\n",
    "        \n",
    "    def predict(self, X):\n",
    "        return c_[ones((X.shape[0],1)), X].dot(self.theta)\n",
    "\n",
    "    \n",
    "def make_x_y(deg=2):\n",
    "  \"\"\" Return random X and y predictions, with X having polynomial features of degree\n",
    "  deg for purpose of visualizing effects of alpha parameter\"\"\"\n",
    "  \n",
    "  X = np.array([*range(-100,100)]).reshape(-1,1) / 100\n",
    "\n",
    "  poly_adder = PolynomialFeatures(degree=deg)\n",
    "  X = poly_adder.fit_transform(X)\n",
    "\n",
    "  thetas = np.array(np.random.randn(deg+1,1)).reshape(-1,1)\n",
    "\n",
    "  y = X.dot(thetas)\n",
    "  y += np.random.normal(loc=0, scale=.1, size=(len(y),1))\n",
    "  return X, y\n",
    "\n",
    "ridge = RidgeRegressionTest(0.00001)\n",
    "X, y = make_x_y(2)\n",
    "ridge.fit(X, y)\n",
    "\n",
    "y_pred = ridge.predict(X)\n",
    "x_pred = X\n",
    "\n",
    "fig2, axe2 = subplots(dpi = 100)\n",
    "axe2.set_title(\"Ridge Regression Test\")\n",
    "\n",
    "axe2.scatter(X[:, 1], y)\n",
    "axe2.plot(X[:, 1], y_pred, color='green')\n",
    "axe2.set_ylabel('y')\n",
    "axe2.set_xlabel(f'X degree {1}')\n",
    "\n",
    "show(fig2)\n"
   ]
  },
  {
   "cell_type": "markdown",
   "metadata": {},
   "source": [
    "## Model Testing Function"
   ]
  },
  {
   "cell_type": "code",
   "execution_count": null,
   "metadata": {},
   "outputs": [],
   "source": [
    "def testModel(X, y, model, printo):\n",
    "    summ = 0.0\n",
    "    summ += _test(X, y, model, 0.5, printo)\n",
    "    summ += _test(X, y, model, 0.55, printo)\n",
    "    summ += _test(X, y, model, 0.6, printo)\n",
    "    summ += _test(X, y, model, 0.65, printo)\n",
    "    summ += _test(X, y, model, 0.7, printo)\n",
    "    summ += _test(X, y, model, 0.75, printo)\n",
    "    summ += _test(X, y, model, 0.8, printo)\n",
    "    summ += _test(X, y, model, 0.85, printo)\n",
    "    summ += _test(X, y, model, 0.9, printo)\n",
    "    summ += _test(X, y, model, 0.95, printo)\n",
    "    \n",
    "    if printo:\n",
    "        print(\"total average MSE:\\t\", summ/10)\n",
    "    return summ/10\n",
    "\n",
    "    \n",
    "def truncate(number, digits) -> float:\n",
    "    stepper = 10.0 ** digits\n",
    "    return math.trunc(stepper * number) / stepper    \n",
    "    \n",
    "def _test(X, y, model, val, printo):\n",
    "    temp_val = truncate(len(X)/(len(X)*val), 3)\n",
    "    model.fit(X[int(len(X)//temp_val):], h[int(len(X)//temp_val):])\n",
    "    predicted = model.predict(X[:int(len(X)//temp_val)])\n",
    "    score = 0\n",
    "    \n",
    "    if val == 0.5:\n",
    "        score = (sum(sqrt(pow(predicted-h[int(len(X)//temp_val+1):],2))))/len(predicted)\n",
    "    else:\n",
    "        score = (sum(sqrt(pow(predicted-h[:(int(len(X)//temp_val))],2)))/len(predicted))                              \n",
    "    \n",
    "    if printo:\n",
    "        print(\"average difference after\", int(val*100),\"% trained\",int(100-val*100),\"% tested:\\t\", score)\n",
    "    # print(score)\n",
    "    return score\n",
    "\n",
    "\n",
    "print(\"done\")\n"
   ]
  },
  {
   "cell_type": "code",
   "execution_count": null,
   "metadata": {},
   "outputs": [],
   "source": [
    "dat2006 = array(pd.read_csv('dat_2006.csv',header=0))\n",
    "coord = dat2006[:,:2] ## coordinates (rows 1 and 2 frome csv)\n",
    "h = dat2006[:,2] ## y coordinate\n",
    "\n",
    "linear = LinearRegressionTest()\n",
    "lasso = Lasso(alpha=1)\n",
    "ridge = RidgeRegressionTest(1)\n",
    "\n",
    "\n",
    "testModel(coord, h, ridge, True)\n",
    "print(\"\\n\")\n",
    "\n",
    "testModel(coord, h, lasso, True)\n",
    "print(\"\\n\")\n",
    "\n",
    "testModel(coord, h, linear, True)\n",
    "\n",
    "\n",
    "\n",
    "print(len(coord))"
   ]
  },
  {
   "cell_type": "code",
   "execution_count": null,
   "metadata": {},
   "outputs": [],
   "source": [
    "print(\":WOW\")\n",
    "\n",
    "def generateMoreFeatures(X, length):\n",
    "    newX = np.copy(X)\n",
    "    # print(newX)\n",
    "    \n",
    "    l = length-2\n",
    "    if length-2 < 0:\n",
    "        return\n",
    "    for i in range(l):\n",
    "        col = []\n",
    "        randXY = [random.uniform(0, 1), random.uniform(0, 1)]\n",
    "        # randTuples.append(temp)\n",
    "        for j in range(len(X)):\n",
    "            col.append(X[j-1,0]*randXY[0] + X[j-1,1]*randXY[1])\n",
    "            \n",
    "        #append feature column to X\n",
    "        newX = np.append(newX, np.array([col]).T, axis = 1)\n",
    "        \n",
    "    return newX\n",
    "    \n",
    "\n",
    "nums = [2, 100, 500, 1000]\n",
    "testCase2out = []\n",
    "for i in range(len(nums)):\n",
    "        print(i)\n",
    "        newX = generateMoreFeatures(coord, nums[i])\n",
    "        testCase2out.append([testModel(newX, h, ridge,True), testModel(newX, h, lasso,True),testModel(newX, h, linear,True)])\n",
    "        print(testCase2out[i])\n",
    "\n",
    "\n",
    "\n",
    "# testModel(newX, h, ridge, False)\n",
    "# print(\"\\n\")\n",
    "\n",
    "# testModel(newX, h, lasso, False)\n",
    "# print(\"\\n\")\n",
    "\n",
    "# testModel(newX, h, linear, False)\n",
    "\n",
    "\n",
    "print(testCase2out)\n"
   ]
  },
  {
   "cell_type": "code",
   "execution_count": null,
   "metadata": {},
   "outputs": [],
   "source": [
    "nums = [2, 100, 500, 1000, 5000]\n",
    "testCase2out = [0.001, 0.01, 1, 10, 100, 1000]\n",
    "for i in range(len(nums)):\n",
    "        print(i)\n",
    "        # linear = LinearRegressionTest()\n",
    "        lasso = Lasso(alpha=nums[i])\n",
    "        ridge = RidgeRegressionTest(nums[i])\n",
    "        testCase2out.append([testModel(newX, h, ridge,True), testModel(newX, h, lasso,True)])\n",
    "        print(testCase2out[i])"
   ]
  },
  {
   "cell_type": "code",
   "execution_count": null,
   "metadata": {},
   "outputs": [],
   "source": [
    "# import sklearn.datasets\n",
    "# from sklearn.preprocessing import PolynomialFeatures\n",
    "\n",
    "\n",
    "# class l1_regularization():\n",
    "#     \"\"\" Regularization for Lasso Regression \"\"\"\n",
    "#     def __init__(self, alpha):\n",
    "#         self.alpha = alpha\n",
    "    \n",
    "#     def __call__(self, w):\n",
    "#         return self.alpha * np.linalg.norm(w)\n",
    "\n",
    "#     def grad(self, w):\n",
    "#         return self.alpha * np.sign(w)\n",
    "    \n",
    "# class LassoModel():\n",
    "#     def __init__(self, alpha):\n",
    "#         self.iterations = 50\n",
    "#         self.lmbda = 0.00005\n",
    "#         self.alpha = alpha\n",
    "        \n",
    "#     def clip(self, b, a):\n",
    "#         # print(b)\n",
    "#         clipped = np.minimum(b,a)\n",
    "#         clipped = np.maximum(clipped, -a)\n",
    "        \n",
    "#         # print(clipped)\n",
    "#         return clipped\n",
    "        \n",
    "#     def proxL1Norm(self, betaHat, a):\n",
    "        \n",
    "#         out = betaHat - self.clip(betaHat, a)\n",
    "#         print(betaHat, ' - ' , self.clip(betaHat,a))\n",
    "        \n",
    "#         return out\n",
    "    \n",
    "#     def initialize_weights(self, n_features):\n",
    "#         \"\"\" Initialize weights randomly [-1/N, 1/N] \"\"\"\n",
    "#         limit = 1 / math.sqrt(n_features)\n",
    "#         self.w = np.random.uniform(-limit, limit, (n_features, ))\n",
    "        \n",
    "#     def fit(self, X, y):\n",
    "#         # Insert constant ones for bias weights\n",
    "#         X = np.insert(X, 0, 1, axis=1)\n",
    "#         self.training_errors = []\n",
    "#         self.initialize_weights(n_features=X.shape[1])\n",
    "        \n",
    "#         # Do gradient descent for n_iterations\n",
    "#         for i in range(self.iterations):\n",
    "#             y_pred = X.dot(self.w)\n",
    "#             # Calculate l2 loss\n",
    "#             mse = np.mean(0.5 * (y - y_pred)**2 + self.alpha * np.linalg.norm(self.w))\n",
    "#             self.training_errors.append(mse)\n",
    "#             # Gradient of l2 loss w.r.t w\n",
    "#             grad_w = -(y - y_pred).dot(X) +  self.alpha * np.sign(self.w)\n",
    "#             # Update the weights\n",
    "#             self.w -= self.learning_rate * grad_\n",
    "\n",
    "            \n",
    "#         return self.beta, costFunVals;\n",
    "        \n",
    "#     def predict(self, X):\n",
    "#         return c_[ones((X.shape[0],1)), X].dot(self.beta)\n",
    "\n",
    "\n",
    "\n",
    "\n",
    "# herewego = LassoModel(1)\n",
    "# #testModel(coord, h, herewego)\n",
    "# b, costFunVals = herewego.fit(coord, h)\n",
    "\n",
    "# print(b)\n",
    "\n",
    "# matplotlib.pyplot.figure()\n",
    "# matplotlib.pyplot.plot(b)"
   ]
  },
  {
   "cell_type": "code",
   "execution_count": null,
   "metadata": {},
   "outputs": [],
   "source": []
  },
  {
   "cell_type": "code",
   "execution_count": null,
   "metadata": {},
   "outputs": [],
   "source": []
  },
  {
   "cell_type": "code",
   "execution_count": null,
   "metadata": {},
   "outputs": [],
   "source": []
  },
  {
   "cell_type": "code",
   "execution_count": null,
   "metadata": {},
   "outputs": [],
   "source": []
  },
  {
   "cell_type": "code",
   "execution_count": null,
   "metadata": {},
   "outputs": [],
   "source": []
  },
  {
   "cell_type": "code",
   "execution_count": null,
   "metadata": {},
   "outputs": [],
   "source": []
  },
  {
   "cell_type": "code",
   "execution_count": null,
   "metadata": {},
   "outputs": [],
   "source": []
  },
  {
   "cell_type": "code",
   "execution_count": null,
   "metadata": {},
   "outputs": [],
   "source": []
  },
  {
   "cell_type": "code",
   "execution_count": null,
   "metadata": {},
   "outputs": [],
   "source": []
  },
  {
   "cell_type": "code",
   "execution_count": null,
   "metadata": {},
   "outputs": [],
   "source": []
  },
  {
   "cell_type": "code",
   "execution_count": null,
   "metadata": {},
   "outputs": [],
   "source": []
  },
  {
   "cell_type": "code",
   "execution_count": null,
   "metadata": {},
   "outputs": [],
   "source": []
  },
  {
   "cell_type": "code",
   "execution_count": null,
   "metadata": {},
   "outputs": [],
   "source": []
  },
  {
   "cell_type": "code",
   "execution_count": null,
   "metadata": {},
   "outputs": [],
   "source": []
  },
  {
   "cell_type": "code",
   "execution_count": null,
   "metadata": {},
   "outputs": [],
   "source": []
  },
  {
   "cell_type": "code",
   "execution_count": null,
   "metadata": {},
   "outputs": [],
   "source": []
  },
  {
   "cell_type": "code",
   "execution_count": null,
   "metadata": {},
   "outputs": [],
   "source": []
  },
  {
   "cell_type": "code",
   "execution_count": null,
   "metadata": {},
   "outputs": [],
   "source": []
  },
  {
   "cell_type": "code",
   "execution_count": null,
   "metadata": {},
   "outputs": [],
   "source": []
  },
  {
   "cell_type": "code",
   "execution_count": null,
   "metadata": {},
   "outputs": [],
   "source": []
  },
  {
   "cell_type": "code",
   "execution_count": null,
   "metadata": {},
   "outputs": [],
   "source": []
  },
  {
   "cell_type": "code",
   "execution_count": null,
   "metadata": {},
   "outputs": [],
   "source": []
  },
  {
   "cell_type": "code",
   "execution_count": null,
   "metadata": {},
   "outputs": [],
   "source": []
  },
  {
   "cell_type": "code",
   "execution_count": null,
   "metadata": {},
   "outputs": [],
   "source": []
  },
  {
   "cell_type": "code",
   "execution_count": null,
   "metadata": {},
   "outputs": [],
   "source": []
  },
  {
   "cell_type": "code",
   "execution_count": null,
   "metadata": {},
   "outputs": [],
   "source": []
  },
  {
   "cell_type": "code",
   "execution_count": null,
   "metadata": {},
   "outputs": [],
   "source": []
  },
  {
   "cell_type": "code",
   "execution_count": null,
   "metadata": {},
   "outputs": [],
   "source": []
  },
  {
   "cell_type": "code",
   "execution_count": null,
   "metadata": {},
   "outputs": [],
   "source": []
  },
  {
   "cell_type": "code",
   "execution_count": null,
   "metadata": {},
   "outputs": [],
   "source": []
  },
  {
   "cell_type": "code",
   "execution_count": null,
   "metadata": {},
   "outputs": [],
   "source": []
  },
  {
   "cell_type": "code",
   "execution_count": null,
   "metadata": {},
   "outputs": [],
   "source": []
  },
  {
   "cell_type": "code",
   "execution_count": null,
   "metadata": {},
   "outputs": [],
   "source": []
  },
  {
   "cell_type": "code",
   "execution_count": null,
   "metadata": {},
   "outputs": [],
   "source": []
  },
  {
   "cell_type": "code",
   "execution_count": null,
   "metadata": {},
   "outputs": [],
   "source": []
  },
  {
   "cell_type": "code",
   "execution_count": null,
   "metadata": {},
   "outputs": [],
   "source": []
  },
  {
   "cell_type": "code",
   "execution_count": null,
   "metadata": {},
   "outputs": [],
   "source": []
  },
  {
   "cell_type": "code",
   "execution_count": null,
   "metadata": {},
   "outputs": [],
   "source": []
  },
  {
   "cell_type": "code",
   "execution_count": null,
   "metadata": {},
   "outputs": [],
   "source": []
  },
  {
   "cell_type": "code",
   "execution_count": null,
   "metadata": {},
   "outputs": [],
   "source": []
  },
  {
   "cell_type": "code",
   "execution_count": null,
   "metadata": {},
   "outputs": [],
   "source": []
  },
  {
   "cell_type": "code",
   "execution_count": null,
   "metadata": {},
   "outputs": [],
   "source": []
  },
  {
   "cell_type": "code",
   "execution_count": null,
   "metadata": {},
   "outputs": [],
   "source": []
  },
  {
   "cell_type": "code",
   "execution_count": null,
   "metadata": {},
   "outputs": [],
   "source": []
  },
  {
   "cell_type": "code",
   "execution_count": null,
   "metadata": {},
   "outputs": [],
   "source": []
  },
  {
   "cell_type": "code",
   "execution_count": null,
   "metadata": {},
   "outputs": [],
   "source": []
  },
  {
   "cell_type": "code",
   "execution_count": null,
   "metadata": {},
   "outputs": [],
   "source": []
  },
  {
   "cell_type": "code",
   "execution_count": null,
   "metadata": {},
   "outputs": [],
   "source": []
  },
  {
   "cell_type": "code",
   "execution_count": null,
   "metadata": {},
   "outputs": [],
   "source": []
  },
  {
   "cell_type": "code",
   "execution_count": null,
   "metadata": {},
   "outputs": [],
   "source": []
  },
  {
   "cell_type": "code",
   "execution_count": null,
   "metadata": {},
   "outputs": [],
   "source": []
  },
  {
   "cell_type": "code",
   "execution_count": null,
   "metadata": {},
   "outputs": [],
   "source": []
  },
  {
   "cell_type": "code",
   "execution_count": null,
   "metadata": {},
   "outputs": [],
   "source": []
  },
  {
   "cell_type": "code",
   "execution_count": null,
   "metadata": {},
   "outputs": [],
   "source": []
  },
  {
   "cell_type": "code",
   "execution_count": null,
   "metadata": {},
   "outputs": [],
   "source": []
  },
  {
   "cell_type": "code",
   "execution_count": null,
   "metadata": {},
   "outputs": [],
   "source": []
  },
  {
   "cell_type": "code",
   "execution_count": null,
   "metadata": {},
   "outputs": [],
   "source": []
  },
  {
   "cell_type": "code",
   "execution_count": null,
   "metadata": {},
   "outputs": [],
   "source": []
  },
  {
   "cell_type": "code",
   "execution_count": null,
   "metadata": {},
   "outputs": [],
   "source": []
  },
  {
   "cell_type": "code",
   "execution_count": null,
   "metadata": {},
   "outputs": [],
   "source": []
  },
  {
   "cell_type": "code",
   "execution_count": null,
   "metadata": {},
   "outputs": [],
   "source": []
  },
  {
   "cell_type": "code",
   "execution_count": null,
   "metadata": {},
   "outputs": [],
   "source": []
  },
  {
   "cell_type": "code",
   "execution_count": null,
   "metadata": {},
   "outputs": [],
   "source": []
  },
  {
   "cell_type": "code",
   "execution_count": null,
   "metadata": {},
   "outputs": [],
   "source": []
  },
  {
   "cell_type": "code",
   "execution_count": null,
   "metadata": {},
   "outputs": [],
   "source": []
  },
  {
   "cell_type": "code",
   "execution_count": null,
   "metadata": {},
   "outputs": [],
   "source": []
  },
  {
   "cell_type": "code",
   "execution_count": null,
   "metadata": {},
   "outputs": [],
   "source": []
  },
  {
   "cell_type": "code",
   "execution_count": null,
   "metadata": {},
   "outputs": [],
   "source": []
  },
  {
   "cell_type": "code",
   "execution_count": null,
   "metadata": {},
   "outputs": [],
   "source": []
  },
  {
   "cell_type": "code",
   "execution_count": null,
   "metadata": {},
   "outputs": [],
   "source": []
  },
  {
   "cell_type": "code",
   "execution_count": null,
   "metadata": {},
   "outputs": [],
   "source": []
  },
  {
   "cell_type": "code",
   "execution_count": null,
   "metadata": {},
   "outputs": [],
   "source": []
  },
  {
   "cell_type": "code",
   "execution_count": null,
   "metadata": {},
   "outputs": [],
   "source": []
  },
  {
   "cell_type": "code",
   "execution_count": null,
   "metadata": {},
   "outputs": [],
   "source": []
  },
  {
   "cell_type": "code",
   "execution_count": null,
   "metadata": {},
   "outputs": [],
   "source": []
  },
  {
   "cell_type": "code",
   "execution_count": null,
   "metadata": {},
   "outputs": [],
   "source": []
  },
  {
   "cell_type": "code",
   "execution_count": null,
   "metadata": {},
   "outputs": [],
   "source": []
  },
  {
   "cell_type": "code",
   "execution_count": null,
   "metadata": {},
   "outputs": [],
   "source": []
  },
  {
   "cell_type": "code",
   "execution_count": null,
   "metadata": {},
   "outputs": [],
   "source": []
  },
  {
   "cell_type": "code",
   "execution_count": null,
   "metadata": {},
   "outputs": [],
   "source": []
  },
  {
   "cell_type": "code",
   "execution_count": null,
   "metadata": {},
   "outputs": [],
   "source": []
  },
  {
   "cell_type": "code",
   "execution_count": null,
   "metadata": {},
   "outputs": [],
   "source": []
  },
  {
   "cell_type": "code",
   "execution_count": null,
   "metadata": {},
   "outputs": [],
   "source": []
  },
  {
   "cell_type": "code",
   "execution_count": null,
   "metadata": {},
   "outputs": [],
   "source": []
  },
  {
   "cell_type": "code",
   "execution_count": null,
   "metadata": {},
   "outputs": [],
   "source": []
  },
  {
   "cell_type": "code",
   "execution_count": null,
   "metadata": {},
   "outputs": [],
   "source": []
  },
  {
   "cell_type": "code",
   "execution_count": null,
   "metadata": {},
   "outputs": [],
   "source": []
  },
  {
   "cell_type": "code",
   "execution_count": null,
   "metadata": {},
   "outputs": [],
   "source": []
  },
  {
   "cell_type": "code",
   "execution_count": null,
   "metadata": {},
   "outputs": [],
   "source": []
  },
  {
   "cell_type": "code",
   "execution_count": null,
   "metadata": {},
   "outputs": [],
   "source": []
  },
  {
   "cell_type": "code",
   "execution_count": null,
   "metadata": {},
   "outputs": [],
   "source": []
  },
  {
   "cell_type": "code",
   "execution_count": null,
   "metadata": {},
   "outputs": [],
   "source": []
  },
  {
   "cell_type": "code",
   "execution_count": null,
   "metadata": {},
   "outputs": [],
   "source": []
  },
  {
   "cell_type": "code",
   "execution_count": null,
   "metadata": {},
   "outputs": [],
   "source": []
  },
  {
   "cell_type": "code",
   "execution_count": null,
   "metadata": {},
   "outputs": [],
   "source": []
  },
  {
   "cell_type": "code",
   "execution_count": null,
   "metadata": {},
   "outputs": [],
   "source": []
  },
  {
   "cell_type": "code",
   "execution_count": null,
   "metadata": {},
   "outputs": [],
   "source": []
  },
  {
   "cell_type": "code",
   "execution_count": null,
   "metadata": {},
   "outputs": [],
   "source": []
  },
  {
   "cell_type": "code",
   "execution_count": null,
   "metadata": {},
   "outputs": [],
   "source": []
  },
  {
   "cell_type": "code",
   "execution_count": null,
   "metadata": {},
   "outputs": [],
   "source": []
  },
  {
   "cell_type": "code",
   "execution_count": null,
   "metadata": {},
   "outputs": [],
   "source": []
  },
  {
   "cell_type": "code",
   "execution_count": null,
   "metadata": {},
   "outputs": [],
   "source": []
  },
  {
   "cell_type": "code",
   "execution_count": null,
   "metadata": {},
   "outputs": [],
   "source": []
  },
  {
   "cell_type": "code",
   "execution_count": null,
   "metadata": {},
   "outputs": [],
   "source": []
  },
  {
   "cell_type": "code",
   "execution_count": null,
   "metadata": {},
   "outputs": [],
   "source": []
  },
  {
   "cell_type": "code",
   "execution_count": null,
   "metadata": {},
   "outputs": [],
   "source": []
  },
  {
   "cell_type": "code",
   "execution_count": null,
   "metadata": {},
   "outputs": [],
   "source": []
  },
  {
   "cell_type": "code",
   "execution_count": null,
   "metadata": {},
   "outputs": [],
   "source": []
  },
  {
   "cell_type": "code",
   "execution_count": null,
   "metadata": {},
   "outputs": [],
   "source": []
  },
  {
   "cell_type": "code",
   "execution_count": null,
   "metadata": {},
   "outputs": [],
   "source": []
  },
  {
   "cell_type": "code",
   "execution_count": null,
   "metadata": {},
   "outputs": [],
   "source": []
  },
  {
   "cell_type": "code",
   "execution_count": null,
   "metadata": {},
   "outputs": [],
   "source": []
  },
  {
   "cell_type": "code",
   "execution_count": null,
   "metadata": {},
   "outputs": [],
   "source": []
  },
  {
   "cell_type": "code",
   "execution_count": null,
   "metadata": {},
   "outputs": [],
   "source": []
  },
  {
   "cell_type": "code",
   "execution_count": null,
   "metadata": {},
   "outputs": [],
   "source": []
  },
  {
   "cell_type": "code",
   "execution_count": null,
   "metadata": {},
   "outputs": [],
   "source": []
  },
  {
   "cell_type": "code",
   "execution_count": null,
   "metadata": {},
   "outputs": [],
   "source": []
  },
  {
   "cell_type": "code",
   "execution_count": null,
   "metadata": {},
   "outputs": [],
   "source": []
  },
  {
   "cell_type": "code",
   "execution_count": null,
   "metadata": {},
   "outputs": [],
   "source": []
  }
 ],
 "metadata": {
  "kernelspec": {
   "display_name": "Python 3 (ipykernel)",
   "language": "python",
   "name": "python3"
  },
  "language_info": {
   "codemirror_mode": {
    "name": "ipython",
    "version": 3
   },
   "file_extension": ".py",
   "mimetype": "text/x-python",
   "name": "python",
   "nbconvert_exporter": "python",
   "pygments_lexer": "ipython3",
   "version": "3.8.10"
  }
 },
 "nbformat": 4,
 "nbformat_minor": 4
}
